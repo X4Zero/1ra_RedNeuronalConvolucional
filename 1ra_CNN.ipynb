{
  "nbformat": 4,
  "nbformat_minor": 0,
  "metadata": {
    "colab": {
      "name": "1ra_CNN.ipynb",
      "provenance": [],
      "collapsed_sections": []
    },
    "kernelspec": {
      "name": "python3",
      "display_name": "Python 3"
    }
  },
  "cells": [
    {
      "cell_type": "markdown",
      "metadata": {
        "id": "u2xX2D6UgVrV",
        "colab_type": "text"
      },
      "source": [
        "# Convolutional Neural Networks"
      ]
    },
    {
      "cell_type": "markdown",
      "metadata": {
        "id": "tIQZc8Tk5UBN",
        "colab_type": "text"
      },
      "source": [
        "Red neuronalconvolucional implementada sobre el conjunto de datos MNIST, basado en el curso de Deep learning con Pytorch de Datacamp "
      ]
    },
    {
      "cell_type": "markdown",
      "metadata": {
        "id": "06bC7qgBZv_f",
        "colab_type": "text"
      },
      "source": [
        "\n",
        "## Importando las librerías\n"
      ]
    },
    {
      "cell_type": "code",
      "metadata": {
        "id": "RufoS-zTOb41",
        "colab_type": "code",
        "colab": {}
      },
      "source": [
        "### Importando las librerias ###\n",
        "import torch\n",
        "import torchvision\n",
        "import torch.utils.data\n",
        "import torchvision.transforms as transforms\n",
        "import torch.nn as nn\n",
        "import torch.nn.functional as F\n",
        "import torch.optim as optim\n",
        "import numpy as np"
      ],
      "execution_count": 0,
      "outputs": []
    },
    {
      "cell_type": "markdown",
      "metadata": {
        "id": "UGWIjSpve2oz",
        "colab_type": "text"
      },
      "source": [
        "## Dataset"
      ]
    },
    {
      "cell_type": "markdown",
      "metadata": {
        "id": "xCi_BgvcaFYf",
        "colab_type": "text"
      },
      "source": [
        "Obteniendo y preparando los datos"
      ]
    },
    {
      "cell_type": "code",
      "metadata": {
        "id": "XGVyYIFPexmB",
        "colab_type": "code",
        "outputId": "4e052676-271f-4444-dcf6-0e2312b63599",
        "colab": {
          "base_uri": "https://localhost:8080/",
          "height": 255
        }
      },
      "source": [
        "### Transform the data to torch tensors and normalize it ###\n",
        "transform = transforms.Compose([transforms.ToTensor(),\n",
        "\t\t\t\t\t\t\t\ttransforms.Normalize((0.1307,), ((0.3081,)))])\n",
        "\n",
        "### Prepare training set and testing set ###\n",
        "trainset = torchvision.datasets.MNIST('mnist', train=True,\n",
        "\t\t\t\t\t\t\t\t\t  download=True, transform=transform)\n",
        "testset = torchvision.datasets.MNIST('mnist', train=False,\n",
        "\t\t\t   download=True, transform=transform)\n",
        "\n",
        "### Prepare training loader and testing loader ###\n",
        "trainloader = torch.utils.data.DataLoader(trainset, batch_size=100,\n",
        "                                          shuffle=True, num_workers=0)\n",
        "testloader = torch.utils.data.DataLoader(testset, batch_size=100,\n",
        "\t\t\t\t\t\t\t\t\t\t shuffle=False, num_workers=0) "
      ],
      "execution_count": 0,
      "outputs": [
        {
          "output_type": "stream",
          "text": [
            "\r0it [00:00, ?it/s]"
          ],
          "name": "stderr"
        },
        {
          "output_type": "stream",
          "text": [
            "Downloading http://yann.lecun.com/exdb/mnist/train-images-idx3-ubyte.gz to mnist/MNIST/raw/train-images-idx3-ubyte.gz\n"
          ],
          "name": "stdout"
        },
        {
          "output_type": "stream",
          "text": [
            "9920512it [00:01, 8657347.16it/s]                            \n"
          ],
          "name": "stderr"
        },
        {
          "output_type": "stream",
          "text": [
            "Extracting mnist/MNIST/raw/train-images-idx3-ubyte.gz\n"
          ],
          "name": "stdout"
        },
        {
          "output_type": "stream",
          "text": [
            "  0%|          | 0/28881 [00:00<?, ?it/s]"
          ],
          "name": "stderr"
        },
        {
          "output_type": "stream",
          "text": [
            "Downloading http://yann.lecun.com/exdb/mnist/train-labels-idx1-ubyte.gz to mnist/MNIST/raw/train-labels-idx1-ubyte.gz\n"
          ],
          "name": "stdout"
        },
        {
          "output_type": "stream",
          "text": [
            "32768it [00:00, 134779.62it/s]           \n",
            "  0%|          | 0/1648877 [00:00<?, ?it/s]"
          ],
          "name": "stderr"
        },
        {
          "output_type": "stream",
          "text": [
            "Extracting mnist/MNIST/raw/train-labels-idx1-ubyte.gz\n",
            "Downloading http://yann.lecun.com/exdb/mnist/t10k-images-idx3-ubyte.gz to mnist/MNIST/raw/t10k-images-idx3-ubyte.gz\n"
          ],
          "name": "stdout"
        },
        {
          "output_type": "stream",
          "text": [
            "1654784it [00:00, 2086957.36it/s]                           \n",
            "0it [00:00, ?it/s]"
          ],
          "name": "stderr"
        },
        {
          "output_type": "stream",
          "text": [
            "Extracting mnist/MNIST/raw/t10k-images-idx3-ubyte.gz\n",
            "Downloading http://yann.lecun.com/exdb/mnist/t10k-labels-idx1-ubyte.gz to mnist/MNIST/raw/t10k-labels-idx1-ubyte.gz\n"
          ],
          "name": "stdout"
        },
        {
          "output_type": "stream",
          "text": [
            "8192it [00:00, 53512.26it/s]            "
          ],
          "name": "stderr"
        },
        {
          "output_type": "stream",
          "text": [
            "Extracting mnist/MNIST/raw/t10k-labels-idx1-ubyte.gz\n",
            "Processing...\n",
            "Done!\n"
          ],
          "name": "stdout"
        },
        {
          "output_type": "stream",
          "text": [
            "\n"
          ],
          "name": "stderr"
        }
      ]
    },
    {
      "cell_type": "markdown",
      "metadata": {
        "id": "dH4QODP0lvf-",
        "colab_type": "text"
      },
      "source": [
        ""
      ]
    },
    {
      "cell_type": "code",
      "metadata": {
        "id": "0Qw3DY5afJ-z",
        "colab_type": "code",
        "outputId": "0ff565a4-b9e1-4b85-fa7f-f626031b63fc",
        "colab": {
          "base_uri": "https://localhost:8080/",
          "height": 153
        }
      },
      "source": [
        "### Compute the shape of the training set and testing set ###\n",
        "trainset_shape = trainloader.dataset.train_data.shape\n",
        "testset_shape = testloader.dataset.test_data.shape\n",
        "\n",
        "### Print the computed shapes ###\n",
        "print(\"trainset_shape : {}\".format(trainset_shape))\n",
        "print(\"testset_shape: {}\".format(testset_shape))\n",
        "\n",
        "### Compute the size of the minibatch for training set and testing set ###\n",
        "trainset_batchsize = trainloader.batch_size\n",
        "testset_batchsize = testloader.batch_size\n",
        "\n",
        "### Predicted ###\n",
        "trainset_predicted = np.array([])\n",
        "testset_predicted = np.array([])\n",
        "\n",
        "### Print sizes of the minibatch ###\n",
        "print(\"trainset_batchsize: {}\".format(trainset_batchsize))\n",
        "print(\"testset_batchsize: {}\".format(testset_batchsize))"
      ],
      "execution_count": 0,
      "outputs": [
        {
          "output_type": "stream",
          "text": [
            "trainset_shape : torch.Size([60000, 28, 28])\n",
            "testset_shape: torch.Size([10000, 28, 28])\n",
            "trainset_batchsize: 100\n",
            "testset_batchsize: 100\n"
          ],
          "name": "stdout"
        },
        {
          "output_type": "stream",
          "text": [
            "/usr/local/lib/python3.6/dist-packages/torchvision/datasets/mnist.py:53: UserWarning: train_data has been renamed data\n",
            "  warnings.warn(\"train_data has been renamed data\")\n",
            "/usr/local/lib/python3.6/dist-packages/torchvision/datasets/mnist.py:58: UserWarning: test_data has been renamed data\n",
            "  warnings.warn(\"test_data has been renamed data\")\n"
          ],
          "name": "stderr"
        }
      ]
    },
    {
      "cell_type": "code",
      "metadata": {
        "id": "12-M57J63sez",
        "colab_type": "code",
        "outputId": "c80fea9f-c9e8-4fa5-e071-4ecc3888f4de",
        "colab": {
          "base_uri": "https://localhost:8080/",
          "height": 320
        }
      },
      "source": [
        "import matplotlib.pyplot as plt\n",
        "images, labels = next(iter(trainloader))\n",
        "print(images.shape)\n",
        "print(labels[0])\n",
        "plt.imshow(images[0,0],cmap='Greys')"
      ],
      "execution_count": 0,
      "outputs": [
        {
          "output_type": "stream",
          "text": [
            "torch.Size([100, 1, 28, 28])\n",
            "tensor(2)\n"
          ],
          "name": "stdout"
        },
        {
          "output_type": "execute_result",
          "data": {
            "text/plain": [
              "<matplotlib.image.AxesImage at 0x7f1988bc9128>"
            ]
          },
          "metadata": {
            "tags": []
          },
          "execution_count": 9
        },
        {
          "output_type": "display_data",
          "data": {
            "image/png": "[encoded data removed]",
            "text/plain": [
              "<Figure size 432x288 with 1 Axes>"
            ]
          },
          "metadata": {
            "tags": []
          }
        }
      ]
    },
    {
      "cell_type": "markdown",
      "metadata": {
        "id": "SUH8s79qe7uW",
        "colab_type": "text"
      },
      "source": [
        "## CNN"
      ]
    },
    {
      "cell_type": "code",
      "metadata": {
        "id": "zin5MRN3WFpI",
        "colab_type": "code",
        "colab": {}
      },
      "source": [
        "class CNN(nn.Module):\n",
        "    def __init__(self):\n",
        "        super(CNN, self).__init__()\n",
        "\t\t\n",
        "        ### Instantiate the ReLU nonlinearity ###\n",
        "        self.relu = nn.ReLU()\n",
        "        \n",
        "        ### Instantiate two convolutional layers ###\n",
        "        self.conv1 = nn.Conv2d(in_channels=1, out_channels=5, kernel_size=3, padding=1)\n",
        "        self.conv2 = nn.Conv2d(in_channels=5, out_channels=10, kernel_size=3, padding=1)\n",
        "        \n",
        "        ### Instantiate a max pooling layer ###\n",
        "        self.pool = nn.MaxPool2d(2, 2)\n",
        "        \n",
        "        ### Instantiate a fully connected layer ###\n",
        "        self.fc = nn.Linear(7 * 7 * 10, 10)\n",
        "\n",
        "    def forward(self, x):\n",
        "\n",
        "        ### Apply conv followd by relu, then in next line pool ###\n",
        "        x = self.relu(self.conv1(x))\n",
        "        x = self.pool(x)\n",
        "\n",
        "        ### Apply conv followd by relu, then in next line pool ###\n",
        "        x = self.relu(self.conv2(x))\n",
        "        x = self.pool(x)\n",
        "\n",
        "        ### Prepare the image for the fully connected layer ###\n",
        "        x = x.view(-1, 7*7*10)\n",
        "\n",
        "        ### Apply the fully connected layer and return the result ###\n",
        "        return self.fc(x)"
      ],
      "execution_count": 0,
      "outputs": []
    },
    {
      "cell_type": "markdown",
      "metadata": {
        "id": "VP91oA3Pfdb4",
        "colab_type": "text"
      },
      "source": [
        "### Entrenamiento"
      ]
    },
    {
      "cell_type": "code",
      "metadata": {
        "id": "V_QI55enWFvU",
        "colab_type": "code",
        "colab": {}
      },
      "source": [
        ""
      ],
      "execution_count": 0,
      "outputs": []
    },
    {
      "cell_type": "markdown",
      "metadata": {
        "id": "j9IuRQVNlmyh",
        "colab_type": "text"
      },
      "source": [
        "Entrenamiento"
      ]
    },
    {
      "cell_type": "code",
      "metadata": {
        "id": "zZJsP3N886i2",
        "colab_type": "code",
        "colab": {}
      },
      "source": [
        "import torch.optim as optim\n",
        "import numpy as np\n",
        "\n",
        "\n",
        "def train(model,epochs,trainloader,criterion,optimizer):\n",
        "  \n",
        "  trainset_predicted_X = np.array([])\n",
        "  global lista\n",
        "  lista=[]\n",
        "  sum_s=0\n",
        "  for epoch in range(epochs):\n",
        "    running_loss = 0\n",
        "    total_train=0\n",
        "    correct_train=0\n",
        "    \n",
        "    for i, data in enumerate(trainloader, 0):\n",
        "        inputs, labels = data\n",
        "        model.train()\n",
        "        optimizer.zero_grad()\n",
        "\n",
        "        ### Compute the forward pass ###\n",
        "        outputs = model(inputs)\n",
        "            \n",
        "        ### Compute the loss function ###\n",
        "        loss = criterion(outputs,labels)\n",
        "            \n",
        "        ### Compute the gradients ###\n",
        "        loss.backward()\n",
        "        \n",
        "        ### Update the weights ###\n",
        "        optimizer.step()\n",
        "\n",
        "        ### Loss ###\n",
        "        running_loss += loss.data.item()\n",
        "\n",
        "        ### Argmax the results of the net ###\n",
        "        _, predicted = torch.max(outputs.data, 1)\n",
        "        \n",
        "        #if epoch==(epochs-1) :\n",
        "        #trainset_predicted_X = np.append(trainset_predicted_X,predicted.numpy())\n",
        "        total_train += labels.size(0)\n",
        "        #lista.append(predicted)\n",
        "        correct_train += (predicted == labels).sum().item()\n",
        "        if list(predicted)==list(labels):\n",
        "          sum_s+=1\n",
        "          #print(i+1,sum_s,predicted,labels)'''\n",
        "    #print(\"predicted : {}\".format(predicted), \" labels: {}\".format(labels))'''\n",
        "    testing_loss, testing_accuracy, testing_pred  = validate(model,criterion,testloader)\n",
        "    training_loss, training_accuracy, training_pred  = validate(model,criterion,trainloader)\n",
        "    \n",
        "\n",
        "    print(training_pred.shape)\n",
        "    print(testing_pred.shape)\n",
        "    print(\"correct: \",correct_train)\n",
        "    print(\"sum_s\",sum_s)\n",
        "    if epoch == epochs-1:\n",
        "      print(\"entro\")\n",
        "      global testset_predicted\n",
        "      global trainset_predicted\n",
        "      trainset_predicted = np.copy(training_pred)\n",
        "      testset_predicted = np.copy(testing_pred)\n",
        "      print(trainset_predicted)\n",
        "      print(testset_predicted)\n",
        "\n",
        "    print(\"Epoch: {}\".format(epoch+1),\n",
        "          \"Training Loss: {:.3f}\".format(running_loss/len(trainloader)),\n",
        "          \"Training Loss2: {:.3f}\".format(training_loss),\n",
        "          \"Training Accuracy: {:.3f}\".format((100*correct_train/total_train)),\n",
        "          \"Training Accuracy2: {:.3f}\".format(training_accuracy),\n",
        "          \"Testing Loss: {:.3f}\".format(testing_loss),\n",
        "          \"Testing Accuracy: {:.3f}\".format(testing_accuracy))\n",
        "  \n",
        "  #global trainset_predicted\n",
        "  #trainset_predicted = np.copy(trainset_predicted_X)\n",
        "\n",
        "def validate(model,criterion,loader):\n",
        "  # Set the model in eval mode\n",
        "  model.eval()\n",
        "\n",
        "  test_loss = 0\n",
        "  correct, total = 0, 0\n",
        "  testset_predicted_Y = np.array([])\n",
        "  \n",
        "  # Iterate over the data in the test_loader\n",
        "  for data in loader:\n",
        "    \n",
        "      # Get the image and label from data\n",
        "      image, label = data\n",
        "      \n",
        "      # Make a forward pass in the net with your image\n",
        "      output = model(image)\n",
        "\n",
        "      test_loss += criterion(output, label).data.item()\n",
        "\n",
        "      # Argmax the results of the net\n",
        "      _, predicted_v = torch.max(output.data, 1)\n",
        "\n",
        "      testset_predicted_Y = np.append(testset_predicted_Y,predicted_v.numpy())\n",
        "      total += label.size(0)\n",
        "      correct += (predicted_v == label).sum().item()\n",
        "  print(testset_predicted_Y[0:100])\n",
        "  #global testset_predicted\n",
        "  #testset_predicted = np.copy(testset_predicted_Y)\n",
        "  return test_loss/len(loader), (100 * correct / total), testset_predicted_Y\n",
        "      "
      ],
      "execution_count": 0,
      "outputs": []
    },
    {
      "cell_type": "code",
      "metadata": {
        "id": "WLeXBChXQMyt",
        "colab_type": "code",
        "outputId": "85eb4ac2-2006-48ce-e540-b30930684b81",
        "colab": {
          "base_uri": "https://localhost:8080/",
          "height": 34
        }
      },
      "source": [
        "list(torch.tensor([1,2,3,4]))"
      ],
      "execution_count": 0,
      "outputs": [
        {
          "output_type": "execute_result",
          "data": {
            "text/plain": [
              "[tensor(1), tensor(2), tensor(3), tensor(4)]"
            ]
          },
          "metadata": {
            "tags": []
          },
          "execution_count": 18
        }
      ]
    },
    {
      "cell_type": "markdown",
      "metadata": {
        "id": "3jcapIBIljzo",
        "colab_type": "text"
      },
      "source": [
        "Evaluando"
      ]
    },
    {
      "cell_type": "code",
      "metadata": {
        "id": "NeHZjVdbBzb6",
        "colab_type": "code",
        "outputId": "de300d91-3235-42d6-a92a-2e938df64050",
        "colab": {
          "base_uri": "https://localhost:8080/",
          "height": 323
        }
      },
      "source": [
        "epochs = 1\n",
        "model = CNN()\n",
        "criterion = nn.CrossEntropyLoss()\n",
        "\n",
        "### Instantiate the Adam optimizer and Cross-Entropy loss function ###\n",
        "optimizer = optim.Adam(model.parameters(), lr=3e-4)\n",
        "\n",
        "train(model,epochs,trainloader,criterion,optimizer)"
      ],
      "execution_count": 0,
      "outputs": [
        {
          "output_type": "stream",
          "text": [
            "[7. 2. 1. 0. 4. 1. 4. 9. 5. 9. 0. 6. 9. 0. 1. 5. 9. 7. 3. 4. 9. 6. 6. 5.\n",
            " 4. 0. 7. 4. 0. 1. 3. 1. 3. 6. 7. 2. 7. 1. 2. 1. 1. 7. 4. 2. 3. 5. 1. 2.\n",
            " 4. 4. 6. 3. 5. 5. 6. 0. 4. 1. 9. 5. 7. 8. 9. 3. 7. 4. 6. 4. 3. 0. 7. 0.\n",
            " 2. 9. 1. 7. 3. 2. 9. 7. 9. 6. 2. 7. 8. 4. 7. 3. 6. 1. 3. 6. 9. 3. 1. 4.\n",
            " 1. 7. 6. 9.]\n",
            "[1. 2. 0. 6. 7. 7. 0. 2. 2. 2. 3. 7. 2. 2. 7. 1. 1. 9. 9. 8. 5. 9. 1. 3.\n",
            " 2. 3. 9. 1. 5. 7. 7. 7. 6. 3. 7. 0. 6. 8. 4. 6. 5. 7. 7. 1. 7. 9. 8. 5.\n",
            " 8. 7. 7. 9. 5. 4. 1. 4. 2. 4. 0. 7. 1. 8. 8. 6. 4. 3. 3. 1. 4. 9. 7. 3.\n",
            " 8. 9. 8. 9. 4. 7. 7. 4. 6. 4. 4. 1. 1. 9. 9. 3. 5. 7. 4. 8. 3. 7. 2. 8.\n",
            " 8. 1. 6. 4.]\n",
            "(60000,)\n",
            "(10000,)\n",
            "correct:  48806\n",
            "sum_s 0\n",
            "entro\n",
            "[1. 2. 0. ... 8. 0. 6.]\n",
            "[7. 2. 1. ... 4. 5. 6.]\n",
            "Epoch: 1 Training Loss: 0.734 Training Loss2: 0.270 Training Accuracy: 81.343 Training Accuracy2: 92.157 Testing Loss: 0.258 Testing Accuracy: 92.720\n"
          ],
          "name": "stdout"
        }
      ]
    },
    {
      "cell_type": "code",
      "metadata": {
        "id": "UFms0QKTh-h7",
        "colab_type": "code",
        "outputId": "def8c97b-3c19-40d2-bd1d-9cb03f797655",
        "colab": {
          "base_uri": "https://localhost:8080/",
          "height": 51
        }
      },
      "source": [
        "print(\"trainset_predicted.shape : {}\".format(trainset_predicted.shape[0]))\n",
        "print(\"testset_predicted.shape: {}\".format(testset_predicted.shape[0]))\n",
        "\n"
      ],
      "execution_count": 0,
      "outputs": [
        {
          "output_type": "stream",
          "text": [
            "trainset_predicted.shape : 60000\n",
            "testset_predicted.shape: 10000\n"
          ],
          "name": "stdout"
        }
      ]
    },
    {
      "cell_type": "code",
      "metadata": {
        "id": "H3zHItuIbKcO",
        "colab_type": "code",
        "outputId": "4141ddc2-3e2e-4212-ec5c-5b4166ffe29b",
        "colab": {
          "base_uri": "https://localhost:8080/",
          "height": 68
        }
      },
      "source": [
        "trainset.train_labels[59990:60000]"
      ],
      "execution_count": 0,
      "outputs": [
        {
          "output_type": "stream",
          "text": [
            "/usr/local/lib/python3.6/dist-packages/torchvision/datasets/mnist.py:43: UserWarning: train_labels has been renamed targets\n",
            "  warnings.warn(\"train_labels has been renamed targets\")\n"
          ],
          "name": "stderr"
        },
        {
          "output_type": "execute_result",
          "data": {
            "text/plain": [
              "tensor([9, 2, 9, 5, 1, 8, 3, 5, 6, 8])"
            ]
          },
          "metadata": {
            "tags": []
          },
          "execution_count": 22
        }
      ]
    },
    {
      "cell_type": "code",
      "metadata": {
        "id": "Ivg61qawb1JM",
        "colab_type": "code",
        "outputId": "43c1a9b8-b35a-4333-b627-aa829a3e4d86",
        "colab": {
          "base_uri": "https://localhost:8080/",
          "height": 68
        }
      },
      "source": [
        "trainset.train_labels[59989]"
      ],
      "execution_count": 0,
      "outputs": [
        {
          "output_type": "stream",
          "text": [
            "/usr/local/lib/python3.6/dist-packages/torchvision/datasets/mnist.py:43: UserWarning: train_labels has been renamed targets\n",
            "  warnings.warn(\"train_labels has been renamed targets\")\n"
          ],
          "name": "stderr"
        },
        {
          "output_type": "execute_result",
          "data": {
            "text/plain": [
              "tensor(8)"
            ]
          },
          "metadata": {
            "tags": []
          },
          "execution_count": 36
        }
      ]
    },
    {
      "cell_type": "code",
      "metadata": {
        "id": "0xqFrziNRHwC",
        "colab_type": "code",
        "outputId": "d8e2f07c-0d83-438b-a1ea-5708d6c1cf57",
        "colab": {
          "base_uri": "https://localhost:8080/",
          "height": 34
        }
      },
      "source": [
        "trainset_predicted[59989]"
      ],
      "execution_count": 0,
      "outputs": [
        {
          "output_type": "execute_result",
          "data": {
            "text/plain": [
              "tensor(9)"
            ]
          },
          "metadata": {
            "tags": []
          },
          "execution_count": 39
        }
      ]
    },
    {
      "cell_type": "code",
      "metadata": {
        "id": "5yaiWOseb8jD",
        "colab_type": "code",
        "outputId": "8d14bf53-bb2b-4d32-c83e-ad6a32198fd6",
        "colab": {
          "base_uri": "https://localhost:8080/",
          "height": 337
        }
      },
      "source": [
        "import matplotlib.pyplot as plt\n",
        "#images, labels = next(iter(trainloader))\n",
        "#print(images.shape)\n",
        "#print(len(images[0,0]))\n",
        "print(trainset.train_labels[59989])\n",
        "plt.imshow(trainset.data[59989],cmap='Greys')"
      ],
      "execution_count": 0,
      "outputs": [
        {
          "output_type": "stream",
          "text": [
            "tensor(8)\n"
          ],
          "name": "stdout"
        },
        {
          "output_type": "stream",
          "text": [
            "/usr/local/lib/python3.6/dist-packages/torchvision/datasets/mnist.py:43: UserWarning: train_labels has been renamed targets\n",
            "  warnings.warn(\"train_labels has been renamed targets\")\n"
          ],
          "name": "stderr"
        },
        {
          "output_type": "execute_result",
          "data": {
            "text/plain": [
              "<matplotlib.image.AxesImage at 0x7fafdc7ea358>"
            ]
          },
          "metadata": {
            "tags": []
          },
          "execution_count": 35
        },
        {
          "output_type": "display_data",
          "data": {
            "image/png": "[encoded data removed]",
            "text/plain": [
              "<Figure size 432x288 with 1 Axes>"
            ]
          },
          "metadata": {
            "tags": []
          }
        }
      ]
    },
    {
      "cell_type": "code",
      "metadata": {
        "id": "GTlKM68WcOzp",
        "colab_type": "code",
        "outputId": "bcbfe500-b41e-4cf4-bebf-f5bc221609b0",
        "colab": {
          "base_uri": "https://localhost:8080/",
          "height": 34
        }
      },
      "source": [
        "trainset.data.shape"
      ],
      "execution_count": 0,
      "outputs": [
        {
          "output_type": "execute_result",
          "data": {
            "text/plain": [
              "torch.Size([60000, 28, 28])"
            ]
          },
          "metadata": {
            "tags": []
          },
          "execution_count": 102
        }
      ]
    },
    {
      "cell_type": "code",
      "metadata": {
        "id": "ajfTSWitbSOa",
        "colab_type": "code",
        "outputId": "25643cb3-eac7-4562-d46f-04981ec10e5e",
        "colab": {
          "base_uri": "https://localhost:8080/",
          "height": 34
        }
      },
      "source": [
        "trainset_predicted[59990:60000]"
      ],
      "execution_count": 0,
      "outputs": [
        {
          "output_type": "execute_result",
          "data": {
            "text/plain": [
              "array([1., 1., 9., 2., 6., 5., 7., 2., 6., 7.])"
            ]
          },
          "metadata": {
            "tags": []
          },
          "execution_count": 94
        }
      ]
    },
    {
      "cell_type": "code",
      "metadata": {
        "id": "MiFls-NbUViH",
        "colab_type": "code",
        "outputId": "baa95825-cfaf-4c24-e064-cf11f885ec58",
        "colab": {
          "base_uri": "https://localhost:8080/",
          "height": 136
        }
      },
      "source": [
        "print(model)"
      ],
      "execution_count": 0,
      "outputs": [
        {
          "output_type": "stream",
          "text": [
            "CNN(\n",
            "  (relu): ReLU()\n",
            "  (conv1): Conv2d(1, 5, kernel_size=(3, 3), stride=(1, 1), padding=(1, 1))\n",
            "  (conv2): Conv2d(5, 10, kernel_size=(3, 3), stride=(1, 1), padding=(1, 1))\n",
            "  (pool): MaxPool2d(kernel_size=2, stride=2, padding=0, dilation=1, ceil_mode=False)\n",
            "  (fc): Linear(in_features=490, out_features=10, bias=True)\n",
            ")\n"
          ],
          "name": "stdout"
        }
      ]
    },
    {
      "cell_type": "code",
      "metadata": {
        "id": "ilg_eGPn8XlX",
        "colab_type": "code",
        "outputId": "6895282a-56c7-4406-c6a4-5a036b527cd6",
        "colab": {
          "base_uri": "https://localhost:8080/",
          "height": 34
        }
      },
      "source": [
        "trainset_predicted"
      ],
      "execution_count": 0,
      "outputs": [
        {
          "output_type": "execute_result",
          "data": {
            "text/plain": [
              "array([3., 1., 3., ..., 2., 1., 1.])"
            ]
          },
          "metadata": {
            "tags": []
          },
          "execution_count": 119
        }
      ]
    },
    {
      "cell_type": "code",
      "metadata": {
        "id": "_GRqXspy8ffv",
        "colab_type": "code",
        "outputId": "0d9f3847-a353-477b-e830-c67992e6a3bc",
        "colab": {
          "base_uri": "https://localhost:8080/",
          "height": 68
        }
      },
      "source": [
        "trainset.train_labels"
      ],
      "execution_count": 0,
      "outputs": [
        {
          "output_type": "stream",
          "text": [
            "/usr/local/lib/python3.6/dist-packages/torchvision/datasets/mnist.py:43: UserWarning: train_labels has been renamed targets\n",
            "  warnings.warn(\"train_labels has been renamed targets\")\n"
          ],
          "name": "stderr"
        },
        {
          "output_type": "execute_result",
          "data": {
            "text/plain": [
              "tensor([5, 0, 4,  ..., 5, 6, 8])"
            ]
          },
          "metadata": {
            "tags": []
          },
          "execution_count": 118
        }
      ]
    },
    {
      "cell_type": "code",
      "metadata": {
        "id": "3BiuBYLc8ggm",
        "colab_type": "code",
        "outputId": "42b0ef03-522b-4957-af56-8f7f1665e3f3",
        "colab": {
          "base_uri": "https://localhost:8080/",
          "height": 34
        }
      },
      "source": [
        "testset_predicted"
      ],
      "execution_count": 0,
      "outputs": [
        {
          "output_type": "execute_result",
          "data": {
            "text/plain": [
              "array([7., 2., 1., ..., 4., 5., 6.])"
            ]
          },
          "metadata": {
            "tags": []
          },
          "execution_count": 45
        }
      ]
    },
    {
      "cell_type": "code",
      "metadata": {
        "id": "871W1yuF8j_y",
        "colab_type": "code",
        "outputId": "d59268bf-70a6-4769-f5bd-dadab658da61",
        "colab": {
          "base_uri": "https://localhost:8080/",
          "height": 68
        }
      },
      "source": [
        "testset.test_labels"
      ],
      "execution_count": 0,
      "outputs": [
        {
          "output_type": "stream",
          "text": [
            "/usr/local/lib/python3.6/dist-packages/torchvision/datasets/mnist.py:48: UserWarning: test_labels has been renamed targets\n",
            "  warnings.warn(\"test_labels has been renamed targets\")\n"
          ],
          "name": "stderr"
        },
        {
          "output_type": "execute_result",
          "data": {
            "text/plain": [
              "tensor([7, 2, 1,  ..., 4, 5, 6])"
            ]
          },
          "metadata": {
            "tags": []
          },
          "execution_count": 46
        }
      ]
    },
    {
      "cell_type": "code",
      "metadata": {
        "id": "duPNamTPocfK",
        "colab_type": "code",
        "colab": {}
      },
      "source": [
        "### Se convierte a un tensor de enteros testset_predicted ###\n",
        "testset_predicted = torch.from_numpy(testset_predicted)\n",
        "trainset_predicted = torch.from_numpy(trainset_predicted)\n",
        "testset_predicted = testset_predicted.type(torch.LongTensor)\n",
        "trainset_predicted = trainset_predicted.type(torch.LongTensor)"
      ],
      "execution_count": 0,
      "outputs": []
    },
    {
      "cell_type": "code",
      "metadata": {
        "id": "Cq4246djvyUQ",
        "colab_type": "code",
        "outputId": "de42e82f-326a-4899-d08e-38dd22d50092",
        "colab": {
          "base_uri": "https://localhost:8080/",
          "height": 34
        }
      },
      "source": [
        "torch.tensor(5)==torch.tensor(4)"
      ],
      "execution_count": 0,
      "outputs": [
        {
          "output_type": "execute_result",
          "data": {
            "text/plain": [
              "tensor(0, dtype=torch.uint8)"
            ]
          },
          "metadata": {
            "tags": []
          },
          "execution_count": 74
        }
      ]
    },
    {
      "cell_type": "code",
      "metadata": {
        "id": "WclNeadmofPZ",
        "colab_type": "code",
        "colab": {}
      },
      "source": [
        "def CalcularCorrectos():\n",
        "  for "
      ],
      "execution_count": 0,
      "outputs": []
    },
    {
      "cell_type": "code",
      "metadata": {
        "id": "D-0L5BgXpcVF",
        "colab_type": "code",
        "outputId": "1d977375-5a84-4203-a7d7-04dbc3fc0635",
        "colab": {
          "base_uri": "https://localhost:8080/",
          "height": 119
        }
      },
      "source": [
        "sum_trs = 0\n",
        "for i,val in enumerate(trainset.train_labels):\n",
        "  if val.item()==trainset_predicted[i].item() :\n",
        "    \n",
        "    sum_trs +=1\n",
        "print(sum_trs)\n",
        "\n",
        "sum_tes = 0\n",
        "for i,val in enumerate(testset.test_labels):\n",
        "  if val.item()==testset_predicted[i].item() :\n",
        "    sum_tes +=1\n",
        "print(sum_tes)"
      ],
      "execution_count": 0,
      "outputs": [
        {
          "output_type": "stream",
          "text": [
            "/usr/local/lib/python3.6/dist-packages/torchvision/datasets/mnist.py:43: UserWarning: train_labels has been renamed targets\n",
            "  warnings.warn(\"train_labels has been renamed targets\")\n"
          ],
          "name": "stderr"
        },
        {
          "output_type": "stream",
          "text": [
            "6002\n",
            "9272\n"
          ],
          "name": "stdout"
        },
        {
          "output_type": "stream",
          "text": [
            "/usr/local/lib/python3.6/dist-packages/torchvision/datasets/mnist.py:48: UserWarning: test_labels has been renamed targets\n",
            "  warnings.warn(\"test_labels has been renamed targets\")\n"
          ],
          "name": "stderr"
        }
      ]
    },
    {
      "cell_type": "code",
      "metadata": {
        "id": "NCVyxQ87oxp0",
        "colab_type": "code",
        "outputId": "bbdc10db-aacd-4086-d68b-87ae2a079ff5",
        "colab": {
          "base_uri": "https://localhost:8080/",
          "height": 68
        }
      },
      "source": [
        "trainset.train_labels[trainset.train_labels!=trainset_predicted].shape"
      ],
      "execution_count": 0,
      "outputs": [
        {
          "output_type": "stream",
          "text": [
            "/usr/local/lib/python3.6/dist-packages/torchvision/datasets/mnist.py:43: UserWarning: train_labels has been renamed targets\n",
            "  warnings.warn(\"train_labels has been renamed targets\")\n"
          ],
          "name": "stderr"
        },
        {
          "output_type": "execute_result",
          "data": {
            "text/plain": [
              "torch.Size([54001])"
            ]
          },
          "metadata": {
            "tags": []
          },
          "execution_count": 155
        }
      ]
    },
    {
      "cell_type": "code",
      "metadata": {
        "id": "0Do4YT7xpKCC",
        "colab_type": "code",
        "outputId": "72b9ff50-c4c3-4899-f2b0-e2110cf036d5",
        "colab": {
          "base_uri": "https://localhost:8080/",
          "height": 68
        }
      },
      "source": [
        "trainset.train_labels.shape"
      ],
      "execution_count": 0,
      "outputs": [
        {
          "output_type": "stream",
          "text": [
            "/usr/local/lib/python3.6/dist-packages/torchvision/datasets/mnist.py:43: UserWarning: train_labels has been renamed targets\n",
            "  warnings.warn(\"train_labels has been renamed targets\")\n"
          ],
          "name": "stderr"
        },
        {
          "output_type": "execute_result",
          "data": {
            "text/plain": [
              "torch.Size([60000])"
            ]
          },
          "metadata": {
            "tags": []
          },
          "execution_count": 156
        }
      ]
    },
    {
      "cell_type": "code",
      "metadata": {
        "id": "FtRcb8FIpt_p",
        "colab_type": "code",
        "outputId": "f047c47a-91f8-4951-d541-05289ef28b12",
        "colab": {
          "base_uri": "https://localhost:8080/",
          "height": 68
        }
      },
      "source": [
        "trainset.train_labels[0].item()==trainset_predicted[0].item()"
      ],
      "execution_count": 0,
      "outputs": [
        {
          "output_type": "stream",
          "text": [
            "/usr/local/lib/python3.6/dist-packages/torchvision/datasets/mnist.py:43: UserWarning: train_labels has been renamed targets\n",
            "  warnings.warn(\"train_labels has been renamed targets\")\n"
          ],
          "name": "stderr"
        },
        {
          "output_type": "execute_result",
          "data": {
            "text/plain": [
              "False"
            ]
          },
          "metadata": {
            "tags": []
          },
          "execution_count": 157
        }
      ]
    },
    {
      "cell_type": "code",
      "metadata": {
        "id": "ICBDEup-qCM1",
        "colab_type": "code",
        "outputId": "f93022c0-edef-43e7-f826-9a909f626a3f",
        "colab": {
          "base_uri": "https://localhost:8080/",
          "height": 85
        }
      },
      "source": [
        "trainset.train_labels[0:30]"
      ],
      "execution_count": 0,
      "outputs": [
        {
          "output_type": "stream",
          "text": [
            "/usr/local/lib/python3.6/dist-packages/torchvision/datasets/mnist.py:43: UserWarning: train_labels has been renamed targets\n",
            "  warnings.warn(\"train_labels has been renamed targets\")\n"
          ],
          "name": "stderr"
        },
        {
          "output_type": "execute_result",
          "data": {
            "text/plain": [
              "tensor([5, 0, 4, 1, 9, 2, 1, 3, 1, 4, 3, 5, 3, 6, 1, 7, 2, 8, 6, 9, 4, 0, 9, 1,\n",
              "        1, 2, 4, 3, 2, 7])"
            ]
          },
          "metadata": {
            "tags": []
          },
          "execution_count": 23
        }
      ]
    },
    {
      "cell_type": "code",
      "metadata": {
        "id": "-i85z0JAqF4p",
        "colab_type": "code",
        "outputId": "eebe20f9-15c8-496d-9224-15320d9661b4",
        "colab": {
          "base_uri": "https://localhost:8080/",
          "height": 51
        }
      },
      "source": [
        "trainset_predicted[0:30]"
      ],
      "execution_count": 0,
      "outputs": [
        {
          "output_type": "execute_result",
          "data": {
            "text/plain": [
              "tensor([3, 5, 6, 0, 9, 6, 9, 3, 1, 4, 5, 3, 4, 0, 9, 6, 2, 2, 3, 3, 0, 3, 1, 4,\n",
              "        2, 1, 4, 9, 3, 4])"
            ]
          },
          "metadata": {
            "tags": []
          },
          "execution_count": 24
        }
      ]
    },
    {
      "cell_type": "code",
      "metadata": {
        "id": "y5MsIwsptDfm",
        "colab_type": "code",
        "outputId": "725c21e8-e4f9-4691-d61c-8b4a4fef9321",
        "colab": {
          "base_uri": "https://localhost:8080/",
          "height": 85
        }
      },
      "source": [
        "testset.test_labels[0:30]"
      ],
      "execution_count": 0,
      "outputs": [
        {
          "output_type": "stream",
          "text": [
            "/usr/local/lib/python3.6/dist-packages/torchvision/datasets/mnist.py:48: UserWarning: test_labels has been renamed targets\n",
            "  warnings.warn(\"test_labels has been renamed targets\")\n"
          ],
          "name": "stderr"
        },
        {
          "output_type": "execute_result",
          "data": {
            "text/plain": [
              "tensor([7, 2, 1, 0, 4, 1, 4, 9, 5, 9, 0, 6, 9, 0, 1, 5, 9, 7, 3, 4, 9, 6, 6, 5,\n",
              "        4, 0, 7, 4, 0, 1])"
            ]
          },
          "metadata": {
            "tags": []
          },
          "execution_count": 25
        }
      ]
    },
    {
      "cell_type": "code",
      "metadata": {
        "id": "sUyV_lhqtDlb",
        "colab_type": "code",
        "outputId": "c8201a7c-ecb0-4aec-9a85-6585174d29f4",
        "colab": {
          "base_uri": "https://localhost:8080/",
          "height": 51
        }
      },
      "source": [
        "testset_predicted[0:30]"
      ],
      "execution_count": 0,
      "outputs": [
        {
          "output_type": "execute_result",
          "data": {
            "text/plain": [
              "tensor([7, 2, 1, 0, 4, 1, 4, 9, 5, 9, 0, 6, 9, 0, 1, 5, 9, 7, 5, 4, 9, 6, 6, 5,\n",
              "        4, 0, 7, 4, 0, 1])"
            ]
          },
          "metadata": {
            "tags": []
          },
          "execution_count": 26
        }
      ]
    },
    {
      "cell_type": "code",
      "metadata": {
        "id": "asFPMX-ioqTQ",
        "colab_type": "code",
        "colab": {}
      },
      "source": [
        "#la cantidad de imágenes predecidas correctamente\n",
        "print('La cantidad de imágenes predecidas correctamente')\n",
        "print(correct)\n",
        "\n",
        "#el número de imágenes en las que se equivocó la red neuronal\n",
        "print('El número de imágenes en las que se equivocó la red neuronal')\n",
        "print(10000-correct)"
      ],
      "execution_count": 0,
      "outputs": []
    },
    {
      "cell_type": "markdown",
      "metadata": {
        "id": "tAxZ5gONfjyd",
        "colab_type": "text"
      },
      "source": [
        "### Evaluación\n",
        "\n"
      ]
    },
    {
      "cell_type": "code",
      "metadata": {
        "id": "n2L9fjQAnzFc",
        "colab_type": "code",
        "colab": {}
      },
      "source": [
        "#la cantidad de imágenes predecidas correctamente\n",
        "print('La cantidad de imágenes predecidas correctamente')\n",
        "print(correct)\n",
        "\n",
        "#el número de imágenes en las que se equivocó la red neuronal\n",
        "print('El número de imágenes en las que se equivocó la red neuronal')\n",
        "print(10000-correct)"
      ],
      "execution_count": 0,
      "outputs": []
    },
    {
      "cell_type": "code",
      "metadata": {
        "id": "ntQ7PIerlg7S",
        "colab_type": "code",
        "outputId": "87125067-c37d-46ae-e1c2-798be3188102",
        "colab": {
          "base_uri": "https://localhost:8080/",
          "height": 331
        }
      },
      "source": [
        "import matplotlib.pyplot as plt\n",
        "\n",
        "\n",
        "#mostrar 20 imágenes en las que se cometió error en la predicción\n",
        "\n",
        "miscl_img = testset.data[testset.test_labels != testset_predicted][:20]\n",
        "correct_lab = testset.test_labels[testset.test_labels != testset_predicted][:20]\n",
        "miscl_lab = testset_predicted[testset.test_labels != testset_predicted][:20]\n",
        "\n",
        "fig, ax = plt.subplots(nrows=4,ncols=5,sharex=True,sharey=True)\n",
        "ax = ax.flatten()\n",
        "\n",
        "lista_etiquetas=[]\n",
        "\n",
        "for i in range(20):\n",
        "  img = miscl_img[i]\n",
        "  ax[i].imshow(img, cmap='Greys')\n",
        "  ax[i].set_title('%d) t: %d p: %d' % (i+1, correct_lab[i], miscl_lab[i]))\n",
        "\n",
        "\n",
        "plt.tight_layout()\n",
        "plt.show()"
      ],
      "execution_count": 0,
      "outputs": [
        {
          "output_type": "stream",
          "text": [
            "/usr/local/lib/python3.6/dist-packages/torchvision/datasets/mnist.py:48: UserWarning: test_labels has been renamed targets\n",
            "  warnings.warn(\"test_labels has been renamed targets\")\n"
          ],
          "name": "stderr"
        },
        {
          "output_type": "display_data",
          "data": {
            "image/png": "[encoded data removed]",
            "text/plain": [
              "<Figure size 432x288 with 20 Axes>"
            ]
          },
          "metadata": {
            "tags": []
          }
        }
      ]
    }
  ]
}